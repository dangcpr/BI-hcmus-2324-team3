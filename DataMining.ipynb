{
 "cells": [
  {
   "cell_type": "markdown",
   "id": "ebef2d8b",
   "metadata": {},
   "source": [
    "# Data mining"
   ]
  },
  {
   "cell_type": "markdown",
   "id": "7301193b",
   "metadata": {},
   "source": [
    "## Import library"
   ]
  },
  {
   "cell_type": "code",
   "execution_count": 5,
   "id": "de3359f0",
   "metadata": {},
   "outputs": [],
   "source": [
    "import pyodbc\n",
    "\n",
    "import pandas as pd\n",
    "\n",
    "import matplotlib.pyplot as plt\n",
    "\n",
    "import seaborn as sns\n",
    "\n",
    "from sklearn.model_selection import train_test_split\n",
    "\n",
    "from sklearn.ensemble import RandomForestClassifier\n",
    "\n",
    "from sklearn.metrics import accuracy_score, classification_report"
   ]
  },
  {
   "cell_type": "markdown",
   "id": "d2b5dff5",
   "metadata": {},
   "source": [
    "## Query data from local database"
   ]
  },
  {
   "cell_type": "code",
   "execution_count": 6,
   "id": "fef72467",
   "metadata": {},
   "outputs": [
    {
     "ename": "OperationalError",
     "evalue": "('HYT00', '[HYT00] [Microsoft][ODBC SQL Server Driver]Login timeout expired (0) (SQLDriverConnect)')",
     "output_type": "error",
     "traceback": [
      "\u001b[1;31m---------------------------------------------------------------------------\u001b[0m",
      "\u001b[1;31mOperationalError\u001b[0m                          Traceback (most recent call last)",
      "Cell \u001b[1;32mIn[6], line 5\u001b[0m\n\u001b[0;32m      2\u001b[0m server \u001b[38;5;241m=\u001b[39m \u001b[38;5;124m'\u001b[39m\u001b[38;5;124mDANGCPR\u001b[39m\u001b[38;5;124m'\u001b[39m \u001b[38;5;66;03m# đổi thành server trong máy của mình\u001b[39;00m\n\u001b[0;32m      3\u001b[0m database \u001b[38;5;241m=\u001b[39m \u001b[38;5;124m'\u001b[39m\u001b[38;5;124mSuperSale_DDS\u001b[39m\u001b[38;5;124m'\u001b[39m\n\u001b[1;32m----> 5\u001b[0m cnxn \u001b[38;5;241m=\u001b[39m \u001b[43mpyodbc\u001b[49m\u001b[38;5;241;43m.\u001b[39;49m\u001b[43mconnect\u001b[49m\u001b[43m(\u001b[49m\u001b[38;5;124;43mf\u001b[39;49m\u001b[38;5;124;43m'\u001b[39;49m\u001b[38;5;124;43mDRIVER=SQL Server;SERVER=\u001b[39;49m\u001b[38;5;132;43;01m{\u001b[39;49;00m\u001b[43mserver\u001b[49m\u001b[38;5;132;43;01m}\u001b[39;49;00m\u001b[38;5;124;43m;DATABASE=\u001b[39;49m\u001b[38;5;132;43;01m{\u001b[39;49;00m\u001b[43mdatabase\u001b[49m\u001b[38;5;132;43;01m}\u001b[39;49;00m\u001b[38;5;124;43m;Trusted_Connection=yes\u001b[39;49m\u001b[38;5;124;43m'\u001b[39;49m\u001b[43m)\u001b[49m\n",
      "\u001b[1;31mOperationalError\u001b[0m: ('HYT00', '[HYT00] [Microsoft][ODBC SQL Server Driver]Login timeout expired (0) (SQLDriverConnect)')"
     ]
    }
   ],
   "source": [
    "# Khai báo tên server và tên database\n",
    "server = 'DANGCPR' # đổi thành server trong máy của mình\n",
    "database = 'SuperSale_DDS'\n",
    "\n",
    "cnxn = pyodbc.connect(f'DRIVER=SQL Server;SERVER={server};DATABASE={database}')"
   ]
  },
  {
   "cell_type": "markdown",
   "id": "fad757d6",
   "metadata": {},
   "source": [
    "### Fact_Sales"
   ]
  },
  {
   "cell_type": "code",
   "execution_count": null,
   "id": "2d31b2e4",
   "metadata": {},
   "outputs": [],
   "source": [
    "# fetch data trong bảng Fact_Sales và lưu trữ nó trong df\n",
    "cursor = cnxn.cursor()\n",
    "\n",
    "cursor.execute(\"SELECT* FROM Fact_Sales\")\n",
    "\n",
    "rows = cursor.fetchall()\n",
    "\n",
    "columns = [column[0] for column in cursor.description]\n",
    "\n",
    "# Factsales dataframe\n",
    "df = pd.DataFrame.from_records(rows, columns=columns)\n",
    "\n",
    "# Hiển thị 5 dòng dữ liệu mẫu\n",
    "df.head(5)"
   ]
  },
  {
   "cell_type": "markdown",
   "id": "13de0ab6",
   "metadata": {},
   "source": [
    "### Dim_ProductLine"
   ]
  },
  {
   "cell_type": "code",
   "execution_count": null,
   "id": "4378cd3f",
   "metadata": {},
   "outputs": [],
   "source": [
    "# fetch data trong bảng Fact_Sales và lưu trữ nó trong df\n",
    "cursor = cnxn.cursor()\n",
    "\n",
    "cursor.execute(\"SELECT* FROM Dim_ProductLine\")\n",
    "\n",
    "rows = cursor.fetchall()\n",
    "\n",
    "columns = [column[0] for column in cursor.description]\n",
    "\n",
    "# Factsales dataframe\n",
    "df_product_line = pd.DataFrame.from_records(rows, columns=columns)\n",
    "\n",
    "# Hiển thị 5 dòng dữ liệu mẫu\n",
    "df_product_line.head(5)"
   ]
  },
  {
   "cell_type": "markdown",
   "id": "b94ccca7",
   "metadata": {},
   "source": [
    "## Explore data analysis (EDA)"
   ]
  },
  {
   "cell_type": "code",
   "execution_count": null,
   "id": "f8819b56",
   "metadata": {},
   "outputs": [],
   "source": [
    "# Kiểu dữ liệu của df\n",
    "df.dtypes"
   ]
  },
  {
   "cell_type": "markdown",
   "id": "cb4e24fa",
   "metadata": {},
   "source": [
    "Trong DDS, tất cả các biến đã được chuyển sang dạng số"
   ]
  },
  {
   "cell_type": "code",
   "execution_count": null,
   "id": "2e67c4b3",
   "metadata": {},
   "outputs": [],
   "source": [
    "# Tìm missing value trong df\n",
    "df.isnull().sum()"
   ]
  },
  {
   "cell_type": "markdown",
   "id": "72c3dc2e",
   "metadata": {},
   "source": [
    "Không có giá trị null trong df"
   ]
  },
  {
   "cell_type": "markdown",
   "id": "a15edc9e",
   "metadata": {},
   "source": [
    "### Distribution of Revenue"
   ]
  },
  {
   "cell_type": "code",
   "execution_count": null,
   "id": "b66572fd",
   "metadata": {},
   "outputs": [],
   "source": [
    "sns.histplot(df['Revenue'], kde=True)\n",
    "plt.show()"
   ]
  },
  {
   "cell_type": "markdown",
   "id": "0ace067d",
   "metadata": {},
   "source": [
    "### Distribution of ProductLine"
   ]
  },
  {
   "cell_type": "code",
   "execution_count": null,
   "id": "5dcfee98",
   "metadata": {},
   "outputs": [],
   "source": [
    "# Merge DataFrame\n",
    "df_countplot_product_line = df.merge(df_product_line, how='left', left_on='IDProductLine', right_on='IDProuductLine_SK')\n",
    "\n",
    "# Sắp xếp DataFrame theo giảm dần của ProductLine\n",
    "sorted_df = df_countplot_product_line['ProductLine'].value_counts().reset_index()\n",
    "sorted_df.columns = ['ProductLine', 'Count']\n",
    "sorted_df = sorted_df.sort_values(by='Count', ascending=False)\n",
    "\n",
    "# Vẽ countplot\n",
    "ax = sns.barplot(x='ProductLine', y='Count', data=sorted_df)\n",
    "\n",
    "# Xoay nhãn trục x\n",
    "plt.xticks(rotation=45)\n",
    "\n",
    "# Hiển thị giá trị trên từng thanh bar\n",
    "for p in ax.patches:\n",
    "    ax.annotate(f'{int(p.get_height())}', (p.get_x() + p.get_width() / 2., p.get_height()),\n",
    "                ha='center', va='center', xytext=(0, 10), textcoords='offset points', color='red')\n",
    "\n",
    "# Hiển thị biểu đồ\n",
    "plt.show()"
   ]
  },
  {
   "cell_type": "markdown",
   "id": "4b0f2008",
   "metadata": {},
   "source": [
    "Ta thấy rằng có sự chênh lệch về lượt mua của từng dòng sản phẩm. Thực hiện data mining để dự đoán kết quả mua hàng của khách hàng."
   ]
  },
  {
   "cell_type": "markdown",
   "id": "67ca655c",
   "metadata": {},
   "source": [
    "## Data mining: Dự đoán khách hàng có mua dòng sản phẩm Fashion accessories không?"
   ]
  },
  {
   "cell_type": "markdown",
   "id": "d79dcc83",
   "metadata": {},
   "source": [
    "### Bước 1: Xác định yêu cầu\n",
    "- Phân nhóm khách hàng tương đồng -> Phân tích và dự đoán hành vi của khách hàng trong mỗi nhóm\n",
    "- Đặc trưng để phân nhóm: dựa vào lịch sử mua hàng của từng dòng sản phẩm:\n",
    "    - Health and beauty\n",
    "    - Food and beverages\n",
    "    - Sports and travel\n",
    "    - Electronic accessories\n",
    "    - Home and lifestyle\n",
    "    - Fashion accessories\n",
    "- Thông tin trong hoá đơn:\n",
    "    - CustomerType\n",
    "    - PaymentMethod\n",
    "    - Branch\n",
    "    - Gender\n",
    "- Thực hiện gom cụm khách hàng --> Clustering\n",
    "- Dựa vào CustomerType, PaymentMethod, Branch, Gender để dự đoán khách có mua Fashion accessories không?"
   ]
  },
  {
   "cell_type": "markdown",
   "id": "3526def7",
   "metadata": {},
   "source": [
    "### Bước 2: Chuẩn bị dữ liệu"
   ]
  },
  {
   "cell_type": "code",
   "execution_count": null,
   "id": "130787e6",
   "metadata": {},
   "outputs": [],
   "source": [
    "# fetch data trong bảng Fact_Sales và lưu trữ nó trong df\n",
    "cursor = cnxn.cursor()\n",
    "\n",
    "cursor.execute(\"\"\"\n",
    "\n",
    "SELECT\n",
    "    c.CustomerType,\n",
    "    pay.PaymentMethod,\n",
    "    b.Branch,\n",
    "    p.IDProduct,\n",
    "    g.Gender,\n",
    "    case sum(case pl.ProductLine when 'Health and beauty' then 1 else 0 end)\n",
    "    when 0 then 0 else 1 end as HealthAndBeauty,\n",
    "    case sum(case pl.ProductLine when 'Food and beverages' then 1 else 0 end)\n",
    "    when 0 then 0 else 1 end as FoodAndBeverages,\n",
    "    case sum(case pl.ProductLine when 'Sports and travel' then 1 else 0 end)\n",
    "    when 0 then 0 else 1 end as SportsAndTravel,\n",
    "    case sum(case pl.ProductLine when 'Electronic accessories' then 1 else 0 end)\n",
    "    when 0 then 0 else 1 end as ElectronicAccessories,\n",
    "    case sum(case pl.ProductLine when 'Home and lifestyle' then 1 else 0 end)\n",
    "    when 0 then 0 else 1 end as HomeAndLifestyle,\n",
    "    case sum(case pl.ProductLine when 'Fashion accessories' then 1 else 0 end)\n",
    "    when 0 then 0 else 1 end as FashionAccessories\n",
    "FROM Fact_Sales fs LEFT JOIN Dim_Date d on fs.IDDate = d.IDDate\n",
    "    LEFT JOIN Dim_CustomerType c on fs.IDCustomerType = c.IDCustomerType\n",
    "    LEFT JOIN Dim_PaymentMethod pay on fs.IDPaymentMethod = pay.IDPaymentMethod_SK\n",
    "    LEFT JOIN Dim_City b on fs.IDBranch = b.IDBranch\n",
    "    LEFT JOIN Dim_ProductLine pl on fs.IDProductLine = pl.IDProuductLine_SK\n",
    "    LEFT JOIN Dim_Gender g on fs.IDGender = g.IDGender\n",
    "    LEFT JOIN Dim_Product p on fs.IDProduct = p.IDProduct_SK\n",
    "group by g.Gender, p.IDProduct, b.Branch, pay.PaymentMethod, c.CustomerType\n",
    "\"\"\")\n",
    "\n",
    "rows = cursor.fetchall()\n",
    "\n",
    "columns = [column[0] for column in cursor.description]\n",
    "\n",
    "# Factsales dataframe\n",
    "df_mining = pd.DataFrame.from_records(rows, columns=columns)\n",
    "\n",
    "# Hiển thị\n",
    "df_mining"
   ]
  },
  {
   "cell_type": "markdown",
   "id": "0b187346",
   "metadata": {},
   "source": [
    "### Kiểu dữ liệu của df_mining"
   ]
  },
  {
   "cell_type": "code",
   "execution_count": null,
   "id": "4f2e0f93",
   "metadata": {},
   "outputs": [],
   "source": [
    "df_mining.dtypes"
   ]
  },
  {
   "cell_type": "markdown",
   "id": "a55247da",
   "metadata": {},
   "source": [
    "Các cột trong df_mining đều thuộc dạng discrete column vì chúng là categorical value"
   ]
  },
  {
   "cell_type": "markdown",
   "id": "74181259",
   "metadata": {},
   "source": [
    "### Bước 3: Chọn mô hình: Dự đoán khách hàng có mua dòng sản phẩm Fashion Accessories không?"
   ]
  },
  {
   "cell_type": "code",
   "execution_count": null,
   "id": "4c8a06d8",
   "metadata": {},
   "outputs": [],
   "source": [
    "from sklearn.model_selection import train_test_split\n",
    "from sklearn.tree import DecisionTreeClassifier\n",
    "from sklearn.preprocessing import LabelEncoder\n",
    "from sklearn.metrics import accuracy_score\n",
    "\n",
    "# 1. Chuẩn bị dữ liệu\n",
    "# Predict column\n",
    "target_column = 'FashionAccessories'\n",
    "# Input column\n",
    "features = ['CustomerType', 'PaymentMethod', 'Branch', 'IDProduct', 'Gender']\n",
    "\n",
    "X = df_mining[features].copy()  # Create a copy of the DataFrame\n",
    "y = df_mining[target_column]\n",
    "\n",
    "# 2. Chuyển đổi dữ liệu\n",
    "# Manual encoding for categorical columns\n",
    "for col in X.columns:\n",
    "    if X[col].dtype == 'object':\n",
    "        label_encoder = LabelEncoder()\n",
    "        X[col] = label_encoder.fit_transform(X[col])\n",
    "\n",
    "# 3. Chia dữ liệu\n",
    "X_train, X_test, y_train, y_test = train_test_split(X, y, test_size=0.2, random_state=42)\n",
    "\n",
    "# 4. Xây dựng và huấn luyện mô hình Decision Tree\n",
    "model = DecisionTreeClassifier()\n",
    "model.fit(X_train, y_train)\n",
    "\n",
    "# Trích xuất độ quan trọng của các features\n",
    "feature_importances = model.feature_importances_\n",
    "\n",
    "# Tạo DataFrame để hiển thị độ quan trọng của các features\n",
    "feature_importance_df = pd.DataFrame({'Feature': features, 'Importance': feature_importances})\n",
    "\n",
    "# Sắp xếp DataFrame theo độ quan trọng giảm dần\n",
    "feature_importance_df = feature_importance_df.sort_values(by='Importance', ascending=False)\n",
    "\n",
    "# In ra độ quan trọng của các features\n",
    "print(\"Feature Importances:\")\n",
    "print(feature_importance_df)\n",
    "\n",
    "# 5. Đánh giá mô hình\n",
    "y_pred = model.predict(X_test)\n",
    "\n",
    "# Print predictions\n",
    "print(\"\\nPredictions:\")\n",
    "result_df = pd.DataFrame({'Actual': y_test, 'Predicted': y_pred})\n",
    "print(result_df)"
   ]
  },
  {
   "cell_type": "markdown",
   "id": "e3943f85",
   "metadata": {},
   "source": [
    "### Bước 4: Đánh giá mô hình"
   ]
  },
  {
   "cell_type": "markdown",
   "id": "f2b089da",
   "metadata": {},
   "source": [
    "### Create confusion matrix"
   ]
  },
  {
   "cell_type": "code",
   "execution_count": null,
   "id": "a7b25107",
   "metadata": {},
   "outputs": [],
   "source": [
    "from sklearn.metrics import confusion_matrix\n",
    "\n",
    "# Tính ma trận confusion\n",
    "conf_matrix = confusion_matrix(y_test, y_pred)\n",
    "\n",
    "# Vẽ biểu đồ ma trận confusion\n",
    "plt.figure(figsize=(8, 6))\n",
    "plt.imshow(conf_matrix, interpolation='nearest', cmap=plt.cm.Blues)\n",
    "plt.title('Confusion Matrix')\n",
    "plt.colorbar()\n",
    "\n",
    "classes = ['Not Buy', 'Buy']\n",
    "tick_marks = [0.5, 1.5]\n",
    "plt.xticks(tick_marks, classes)\n",
    "plt.yticks(tick_marks, classes)\n",
    "\n",
    "plt.ylabel('True label')\n",
    "plt.xlabel('Predicted label')\n",
    "\n",
    "# Hiển thị giá trị trên từng ô của ma trận\n",
    "for i in range(conf_matrix.shape[0]):\n",
    "    for j in range(conf_matrix.shape[1]):\n",
    "        plt.text(j, i, format(conf_matrix[i, j], 'd'),\n",
    "                 horizontalalignment=\"center\",\n",
    "                 color=\"white\" if conf_matrix[i, j] > conf_matrix.max() / 2 else \"black\")\n",
    "\n",
    "plt.show()"
   ]
  },
  {
   "cell_type": "markdown",
   "id": "2cea6e5a",
   "metadata": {},
   "source": [
    "- Ô ở hàng 1, cột 1 (True Negative - TN = 146): Số lượng trường hợp thực sự thuộc lớp \"Not Buy\" và mô hình đã dự đoán đúng là \"Not Buy\".\n",
    "\n",
    "- Ô ở hàng 1, cột 2 (False Positive - FP = 21): Số lượng trường hợp thực sự thuộc lớp \"Not Buy\" nhưng mô hình đã dự đoán là \"Buy\" (dự đoán sai).\n",
    "\n",
    "- Ô ở hàng 2, cột 1 (False Negative - FN = 29): Số lượng trường hợp thực sự thuộc lớp \"Buy\" nhưng mô hình đã dự đoán là \"Not Buy\" (dự đoán sai).\n",
    "\n",
    "- Ô ở hàng 2, cột 2 (True Positive - TP = 5): Số lượng trường hợp thực sự thuộc lớp \"Buy\" và mô hình đã dự đoán đúng là \"Buy\"."
   ]
  },
  {
   "cell_type": "markdown",
   "id": "d963c7d7",
   "metadata": {},
   "source": [
    "### Calculate metrics to evaluate model"
   ]
  },
  {
   "cell_type": "code",
   "execution_count": null,
   "id": "bbec1545",
   "metadata": {},
   "outputs": [],
   "source": [
    "TN = 146\n",
    "FP = 21\n",
    "FN = 29\n",
    "TP = 5\n",
    "\n",
    "# 1. Accuracy\n",
    "accuracy = (TP + TN) / (TP + TN + FP + FN)\n",
    "\n",
    "# 2. Precision\n",
    "precision = TP / (TP + FP)\n",
    "\n",
    "# 3. Recall (Sensitivity)\n",
    "recall = TP / (TP + FN)\n",
    "\n",
    "# 4. F1-score\n",
    "f1_score = 2 * (precision * recall) / (precision + recall)\n",
    "\n",
    "# Hiển thị kết quả\n",
    "print(f'Accuracy: {accuracy:.4f}')\n",
    "print(f'Precision: {precision:.4f}')\n",
    "print(f'Recall: {recall:.4f}')\n",
    "print(f'F1-score: {f1_score:.4f}')\n"
   ]
  },
  {
   "cell_type": "markdown",
   "id": "619fdf86",
   "metadata": {},
   "source": [
    "- Model có Accuracy 75% --> có 75% dự đoán đúng.\n",
    "\n",
    "- Model có Precision 19% --> Trong 26 trường hợp dự đoán là 'Mua', chỉ có 5 trường hợp dự đoán đúng\n",
    "\n",
    "- Model có Recall 14% --> Trong 34 trường hợp thực sự là 'Mua', chỉ có 5 trường hợp được dự đoán là 'Mua'\n",
    "\n",
    "- Model có F1-score 16% --> Kết hợp precision và recall"
   ]
  },
  {
   "cell_type": "markdown",
   "id": "ea47d655",
   "metadata": {},
   "source": [
    "### Characteristics of invoices that purchase Fashion Accessories"
   ]
  },
  {
   "cell_type": "code",
   "execution_count": null,
   "id": "8c716c7a",
   "metadata": {},
   "outputs": [],
   "source": [
    "# Select the relevant columns from the DataFrame\n",
    "df_test = df_mining[df_mining['FashionAccessories'] == 1]\n",
    "selected_columns = ['CustomerType', 'PaymentMethod', 'Branch', 'IDProduct', 'Gender']\n",
    "df_test_selected = df_test[selected_columns]\n",
    "\n",
    "# Plot subplots for each selected column\n",
    "fig, axes = plt.subplots(nrows=2, ncols=2, figsize=(15, 10))\n",
    "\n",
    "# Function to annotate each bar with its count\n",
    "def annotate_bars(ax):\n",
    "    for p in ax.patches:\n",
    "        ax.annotate(f'{p.get_height()}', (p.get_x() + p.get_width() / 2., p.get_height()),\n",
    "                    ha='center', va='center', xytext=(0, 10), textcoords='offset points', color = 'red')\n",
    "\n",
    "# Count plot for CustomerType\n",
    "sns.countplot(data=df_test_selected, x='CustomerType', ax=axes[0, 0])\n",
    "axes[0, 0].set_title('Countplot for CustomerType')\n",
    "annotate_bars(axes[0, 0])\n",
    "\n",
    "# Count plot for PaymentMethod\n",
    "sns.countplot(data=df_test_selected, x='PaymentMethod', ax=axes[0, 1])\n",
    "axes[0, 1].set_title('Countplot for PaymentMethod')\n",
    "annotate_bars(axes[0, 1])\n",
    "\n",
    "# Count plot for Branch\n",
    "sns.countplot(data=df_test_selected, x='Branch', ax=axes[1, 0])\n",
    "axes[1, 0].set_title('Countplot for Branch')\n",
    "annotate_bars(axes[1, 0])\n",
    "\n",
    "# Count plot for Gender\n",
    "sns.countplot(data=df_test_selected, x='Gender', ax=axes[1, 1])\n",
    "axes[1, 1].set_title('Countplot for Gender')\n",
    "annotate_bars(axes[1, 1])\n",
    "\n",
    "plt.tight_layout()\n",
    "plt.show()"
   ]
  },
  {
   "cell_type": "markdown",
   "id": "5aaa192e",
   "metadata": {},
   "source": [
    "## Data mining: Dự đoán khách hàng nữ có mua dòng sản phẩm Health and beauty không?"
   ]
  },
  {
   "cell_type": "markdown",
   "id": "f42a9a16",
   "metadata": {},
   "source": [
    "### Bước 2: Chuẩn bị dữ liệu"
   ]
  },
  {
   "cell_type": "code",
   "execution_count": null,
   "id": "70994d44",
   "metadata": {},
   "outputs": [],
   "source": [
    "# Filter Gender = 'Female'\n",
    "df_mining_female = df_mining[df_mining['Gender'] == 'Female']\n",
    "\n",
    "df_mining_female"
   ]
  },
  {
   "cell_type": "markdown",
   "id": "bcbb9c3a",
   "metadata": {},
   "source": [
    "### Bước 3: Chọn mô hình: Dự đoán khách hàng nữ có mua dòng sản phẩm Health and beauty không?"
   ]
  },
  {
   "cell_type": "code",
   "execution_count": null,
   "id": "ed78e648",
   "metadata": {},
   "outputs": [],
   "source": [
    "from sklearn.model_selection import train_test_split\n",
    "from sklearn.linear_model import LogisticRegression\n",
    "from sklearn.preprocessing import LabelEncoder\n",
    "from sklearn.metrics import accuracy_score\n",
    "import pandas as pd\n",
    "\n",
    "# Chọn các đặc trưng để sử dụng trong dự đoán\n",
    "features = ['CustomerType', 'PaymentMethod', 'Branch', 'IDProduct', 'Gender']\n",
    "\n",
    "# Target column\n",
    "target = 'HealthAndBeauty'\n",
    "\n",
    "# Lấy dữ liệu cho dự đoán\n",
    "X = df_mining_female[features].copy()\n",
    "y = df_mining_female[target].copy()\n",
    "\n",
    "# Chuyển đổi dữ liệu cho các cột dạng object bằng LabelEncoder\n",
    "label_encoder = LabelEncoder()\n",
    "for col in X.columns:\n",
    "    if X[col].dtype == 'object':\n",
    "        X[col] = label_encoder.fit_transform(X[col])\n",
    "\n",
    "# Chia dữ liệu\n",
    "X_train, X_test, y_train, y_test = train_test_split(X, y, test_size=0.2, random_state=42)\n",
    "\n",
    "# Xây dựng và huấn luyện mô hình Logistic Regression\n",
    "model = LogisticRegression()\n",
    "model.fit(X_train, y_train)\n",
    "\n",
    "# Lấy coefficients của mô hình\n",
    "coefficients = model.coef_[0]\n",
    "\n",
    "# Tạo DataFrame để hiển thị độ quan trọng của các features\n",
    "feature_importance_df = pd.DataFrame({'Feature': features, 'Coefficient': coefficients})\n",
    "\n",
    "# Sắp xếp DataFrame theo độ quan trọng giảm dần\n",
    "feature_importance_df = feature_importance_df.sort_values(by='Coefficient', ascending=False)\n",
    "\n",
    "# In ra coefficients của các features\n",
    "print(\"Coefficients:\")\n",
    "print(feature_importance_df)\n",
    "\n",
    "# Dự đoán trên tập kiểm tra\n",
    "y_pred = model.predict(X_test)\n",
    "\n",
    "# Hiển thị actual và predicted values\n",
    "result_df = pd.DataFrame({'Actual': y_test, 'Predicted': y_pred})\n",
    "print(\"\\nActual vs Predicted:\")\n",
    "print(result_df)"
   ]
  },
  {
   "cell_type": "markdown",
   "id": "64ded1ad",
   "metadata": {},
   "source": [
    "### Bước 4: Đánh giá mô hình"
   ]
  },
  {
   "cell_type": "code",
   "execution_count": null,
   "id": "e1c0e154",
   "metadata": {},
   "outputs": [],
   "source": [
    "# Tính ma trận confusion\n",
    "conf_matrix = confusion_matrix(y_test, y_pred)\n",
    "\n",
    "# Vẽ biểu đồ ma trận confusion\n",
    "plt.figure(figsize=(8, 6))\n",
    "plt.imshow(conf_matrix, interpolation='nearest', cmap=plt.cm.Blues)\n",
    "plt.title('Confusion Matrix')\n",
    "plt.colorbar()\n",
    "\n",
    "classes = ['Not Buy', 'Buy']\n",
    "tick_marks = [0.5, 1.5]\n",
    "plt.xticks(tick_marks, classes)\n",
    "plt.yticks(tick_marks, classes)\n",
    "\n",
    "plt.ylabel('True label')\n",
    "plt.xlabel('Predicted label')\n",
    "\n",
    "# Hiển thị giá trị trên từng ô của ma trận\n",
    "for i in range(conf_matrix.shape[0]):\n",
    "    for j in range(conf_matrix.shape[1]):\n",
    "        plt.text(j, i, format(conf_matrix[i, j], 'd'),\n",
    "                 horizontalalignment=\"center\",\n",
    "                 color=\"white\" if conf_matrix[i, j] > conf_matrix.max() / 2 else \"black\")\n",
    "\n",
    "plt.show()"
   ]
  },
  {
   "cell_type": "code",
   "execution_count": null,
   "id": "12daabcd",
   "metadata": {},
   "outputs": [],
   "source": [
    "TN = 84\n",
    "FP = 0\n",
    "FN = 17\n",
    "TP = 0\n",
    "\n",
    "# 1. Accuracy\n",
    "accuracy = (TP + TN) / (TP + TN + FP + FN)\n",
    "\n",
    "# Hiển thị kết quả\n",
    "print(f'Accuracy: {accuracy:.4f}')"
   ]
  },
  {
   "cell_type": "markdown",
   "id": "c91a4856",
   "metadata": {},
   "source": [
    "Model có Accuracy = 83% --> có 83% dự đoán đúng."
   ]
  },
  {
   "cell_type": "code",
   "execution_count": null,
   "id": "688f6b4d",
   "metadata": {},
   "outputs": [],
   "source": []
  },
  {
   "cell_type": "markdown",
   "id": "d69d63c2",
   "metadata": {},
   "source": [
    "### Characteristics of invoices that purchase Health and Beauty by female customers"
   ]
  },
  {
   "cell_type": "code",
   "execution_count": null,
   "id": "428f666d",
   "metadata": {},
   "outputs": [],
   "source": [
    "# Select the relevant columns from the DataFrame\n",
    "df_test = df_mining_female[df_mining_female['HealthAndBeauty'] == 1]\n",
    "selected_columns = ['CustomerType', 'PaymentMethod', 'Branch', 'IDProduct', 'Gender']\n",
    "df_test_selected = df_test[selected_columns]\n",
    "\n",
    "# Plot subplots for each selected column\n",
    "fig, axes = plt.subplots(nrows=2, ncols=2, figsize=(15, 10))\n",
    "\n",
    "# Function to annotate each bar with its count\n",
    "def annotate_bars(ax):\n",
    "    for p in ax.patches:\n",
    "        ax.annotate(f'{p.get_height()}', (p.get_x() + p.get_width() / 2., p.get_height()),\n",
    "                    ha='center', va='center', xytext=(0, 10), textcoords='offset points', color = 'red')\n",
    "\n",
    "# Count plot for CustomerType\n",
    "sns.countplot(data=df_test_selected, x='CustomerType', ax=axes[0, 0])\n",
    "axes[0, 0].set_title('Countplot for CustomerType')\n",
    "annotate_bars(axes[0, 0])\n",
    "\n",
    "# Count plot for PaymentMethod\n",
    "sns.countplot(data=df_test_selected, x='PaymentMethod', ax=axes[0, 1])\n",
    "axes[0, 1].set_title('Countplot for PaymentMethod')\n",
    "annotate_bars(axes[0, 1])\n",
    "\n",
    "# Count plot for Branch\n",
    "sns.countplot(data=df_test_selected, x='Branch', ax=axes[1, 0])\n",
    "axes[1, 0].set_title('Countplot for Branch')\n",
    "annotate_bars(axes[1, 0])\n",
    "\n",
    "# Count plot for Gender\n",
    "sns.countplot(data=df_test_selected, x='Gender', ax=axes[1, 1])\n",
    "axes[1, 1].set_title('Countplot for Gender')\n",
    "annotate_bars(axes[1, 1])\n",
    "\n",
    "plt.tight_layout()\n",
    "plt.show()"
   ]
  }
 ],
 "metadata": {
  "kernelspec": {
   "display_name": "Python 3 (ipykernel)",
   "language": "python",
   "name": "python3"
  },
  "language_info": {
   "codemirror_mode": {
    "name": "ipython",
    "version": 3
   },
   "file_extension": ".py",
   "mimetype": "text/x-python",
   "name": "python",
   "nbconvert_exporter": "python",
   "pygments_lexer": "ipython3",
   "version": "3.9.0"
  }
 },
 "nbformat": 4,
 "nbformat_minor": 5
}
